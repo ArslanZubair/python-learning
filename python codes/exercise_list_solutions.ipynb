{
 "cells": [
  {
   "cell_type": "code",
   "execution_count": 5,
   "metadata": {},
   "outputs": [
    {
     "name": "stdout",
     "output_type": "stream",
     "text": [
      "['arslan', 'areeba', 'saad', 'arsh']\n",
      "arslan\n",
      "areeba\n",
      "saad\n",
      "arsh\n"
     ]
    }
   ],
   "source": [
    "#NAMES\n",
    "names: list = ['arslan','areeba','saad','arsh']\n",
    "print(names)\n",
    "#printing seperate names\n",
    "print(names[0])\n",
    "print(names[1])\n",
    "print(names[2])\n",
    "print(names[3])"
   ]
  },
  {
   "cell_type": "code",
   "execution_count": 6,
   "metadata": {},
   "outputs": [
    {
     "name": "stdout",
     "output_type": "stream",
     "text": [
      "Hello,arslan Hope you are having a good day.\n",
      "Hello,areeba Hope you are having a good day.\n",
      "Hello,saad Hope you are having a good day.\n",
      "Hello,arsh Hope you are having a good day.\n"
     ]
    }
   ],
   "source": [
    "#GREETINGS\n",
    "for name in names:\n",
    "    print(f\"Hello,{name} Hope you are having a good day.\")\n"
   ]
  },
  {
   "cell_type": "code",
   "execution_count": 7,
   "metadata": {},
   "outputs": [
    {
     "name": "stdout",
     "output_type": "stream",
     "text": [
      "my list of fav cars ['porsche', 'BMW', 'Mercedes AMG 63']\n",
      "i would like to own a porsche car\n",
      "i would like to own a BMW car\n",
      "i would like to own a Mercedes AMG 63 car\n"
     ]
    }
   ],
   "source": [
    "#YOUR OWN LIST\n",
    "cars:list = ['porsche','BMW','Mercedes AMG 63']\n",
    "print(\"my list of fav cars\", cars)\n",
    "for owning in cars:\n",
    "    print(f\"i would like to own a {owning} car\")"
   ]
  },
  {
   "cell_type": "code",
   "execution_count": 8,
   "metadata": {},
   "outputs": [
    {
     "name": "stdout",
     "output_type": "stream",
     "text": [
      "Hey saad , hope you are doing good.You are invited on dinner at my place tonight.\n",
      "Hey arsh , hope you are doing good.You are invited on dinner at my place tonight.\n",
      "Hey hamza , hope you are doing good.You are invited on dinner at my place tonight.\n"
     ]
    }
   ],
   "source": [
    "#GUEST LIST\n",
    "guests:list = ['saad','arsh','hamza']\n",
    "for invitations in guests:\n",
    "    print(f\"Hey {invitations} , hope you are doing good.You are invited on dinner at my place tonight.\")\n"
   ]
  },
  {
   "cell_type": "code",
   "execution_count": 9,
   "metadata": {},
   "outputs": [
    {
     "name": "stdout",
     "output_type": "stream",
     "text": [
      "unfortunately saad can't make it to dinner\n",
      "The updated invitation list is ['areeba', 'arsh', 'hamza']\n",
      "Hey areeba, hope you are doing good.You are invited on dinner at my place tonight\n",
      "Hey arsh, hope you are doing good.You are invited on dinner at my place tonight\n",
      "Hey hamza, hope you are doing good.You are invited on dinner at my place tonight\n"
     ]
    }
   ],
   "source": [
    "#CHANGING GUEST LIST\n",
    "print(f\"unfortunately {guests[0]} can't make it to dinner\")\n",
    "guests[0]=\"areeba\"\n",
    "# updated_guestList = guests.copy()\n",
    "print(\"The updated invitation list is\",guests)\n",
    "for invitations in guests:\n",
    "   print(f\"Hey {invitations}, hope you are doing good.You are invited on dinner at my place tonight\") \n",
    "\n"
   ]
  },
  {
   "cell_type": "code",
   "execution_count": 10,
   "metadata": {},
   "outputs": [
    {
     "name": "stdout",
     "output_type": "stream",
     "text": [
      "Good news! we found a bigger table , so more guest can join us.\n",
      "['awais', 'areeba', 'danish', 'arsh', 'hamza', 'fatima']\n",
      "Updated guest list !\n",
      "Hey awais, hope you are doing good. You are invited on dinner at my place tonight\n",
      "Hey areeba, hope you are doing good. You are invited on dinner at my place tonight\n",
      "Hey danish, hope you are doing good. You are invited on dinner at my place tonight\n",
      "Hey arsh, hope you are doing good. You are invited on dinner at my place tonight\n",
      "Hey hamza, hope you are doing good. You are invited on dinner at my place tonight\n",
      "Hey fatima, hope you are doing good. You are invited on dinner at my place tonight\n"
     ]
    }
   ],
   "source": [
    "#more guest \n",
    "print(\"Good news! we found a bigger table , so more guest can join us.\")\n",
    "guests.insert(0,'awais')\n",
    "middle_index = len(guests)//2\n",
    "guests.insert(middle_index,'danish')\n",
    "guests.append('fatima')\n",
    "print(guests)\n",
    "print(\"Updated guest list !\")\n",
    "for invitations in guests:\n",
    "    print(f\"Hey {invitations}, hope you are doing good. You are invited on dinner at my place tonight\")"
   ]
  },
  {
   "cell_type": "code",
   "execution_count": 11,
   "metadata": {},
   "outputs": [
    {
     "name": "stdout",
     "output_type": "stream",
     "text": [
      "you can only invite two people\n",
      "['awais', 'arsh', 'hamza', 'fatima']\n"
     ]
    }
   ],
   "source": [
    "#shrinking guests\n",
    "print(\"you can only invite two people\")\n",
    "guests.pop(-5)\n",
    "guests.pop(-4)\n",
    "\n",
    "print(guests)\n"
   ]
  },
  {
   "cell_type": "code",
   "execution_count": 44,
   "metadata": {},
   "outputs": [
    {
     "name": "stdout",
     "output_type": "stream",
     "text": [
      "original locations list: ['greece', 'skardu', 'paris', 'hunza', 'naran']\n",
      "List in alphabetical order using sorted method :\n",
      "['greece', 'hunza', 'naran', 'paris', 'skardu']\n",
      "original list after sorted:  ['greece', 'skardu', 'paris', 'hunza', 'naran']\n",
      "list in reverse alphabetical order using sorted method: \n",
      "['skardu', 'paris', 'naran', 'hunza', 'greece']\n",
      "original list after sorted:  ['greece', 'skardu', 'paris', 'hunza', 'naran']\n",
      "reverse order of the list using reverse method: \n",
      "reversed order of the list ['naran', 'hunza', 'paris', 'skardu', 'greece']\n",
      "list after using reverse() again and back to its original order ['greece', 'skardu', 'paris', 'hunza', 'naran']\n",
      "sorting list to its original alphabetical order ['greece', 'hunza', 'naran', 'paris', 'skardu']\n",
      "sorting list in reverse alphabetical order ['skardu', 'paris', 'naran', 'hunza', 'greece']\n"
     ]
    }
   ],
   "source": [
    "#SEEING THE WORLD\n",
    "locations:list=['greece','skardu','paris','hunza','naran']\n",
    "\n",
    "print(\"original locations list:\" ,locations)\n",
    "\n",
    "print(\"List in alphabetical order using sorted method :\")\n",
    "print(sorted(locations))\n",
    "\n",
    "print(\"original list after sorted: \", locations)\n",
    "\n",
    "print(\"list in reverse alphabetical order using sorted method: \")\n",
    "print(sorted(locations, reverse=True))\n",
    "\n",
    "print(\"original list after sorted: \", locations)\n",
    "\n",
    "print(\"reverse order of the list using reverse method: \")\n",
    "locations.reverse()\n",
    "\n",
    "print(\"reversed order of the list\",locations)\n",
    "locations.reverse()\n",
    "\n",
    "print(\"list after using reverse() again and back to its original order\",locations)\n",
    "locations.sort()\n",
    "\n",
    "print(\"sorting list to its original alphabetical order\", locations)\n",
    "\n",
    "locations.sort(reverse=True)\n",
    "print(\"sorting list in reverse alphabetical order\", locations)\n",
    "\n"
   ]
  },
  {
   "cell_type": "code",
   "execution_count": 50,
   "metadata": {},
   "outputs": [
    {
     "name": "stdout",
     "output_type": "stream",
     "text": [
      "after using append() ['k2', 'kunhar river', 'lahore', 'urdu', 'spanish', 'turkey', 'skardu']\n",
      "after using remove() ['k2', 'kunhar river', 'lahore', 'spanish', 'turkey', 'skardu']\n",
      "after using insert() ['k2', 'kunhar river', 'iran', 'lahore', 'spanish', 'turkey', 'skardu']\n",
      "after using pop() ['k2', 'iran', 'lahore', 'spanish', 'turkey', 'skardu']\n",
      "after using sort() ['iran', 'k2', 'lahore', 'skardu', 'spanish', 'turkey']\n",
      "after using reverse() ['turkey', 'spanish', 'skardu', 'lahore', 'k2', 'iran']\n"
     ]
    }
   ],
   "source": [
    "#EVERY FUNCTION \n",
    "random_list:list=['k2','kunhar river','lahore','urdu','spanish','turkey']\n",
    "\n",
    "random_list.append(\"skardu\")\n",
    "print(f\"after using append() {random_list}\")\n",
    "\n",
    "random_list.remove(\"urdu\")\n",
    "print(f\"after using remove() {random_list}\")\n",
    "\n",
    "random_list.insert(2,\"iran\")\n",
    "print(f\"after using insert() {random_list}\")\n",
    "\n",
    "random_list.pop(1)\n",
    "print(f\"after using pop() {random_list}\")\n",
    "\n",
    "random_list.sort()\n",
    "print(f\"after using sort() {random_list}\")\n",
    "\n",
    "random_list.reverse()\n",
    "print(f\"after using reverse() {random_list}\")"
   ]
  },
  {
   "cell_type": "code",
   "execution_count": 1,
   "metadata": {},
   "outputs": [
    {
     "ename": "IndexError",
     "evalue": "list index out of range",
     "output_type": "error",
     "traceback": [
      "\u001b[1;31m---------------------------------------------------------------------------\u001b[0m",
      "\u001b[1;31mIndexError\u001b[0m                                Traceback (most recent call last)",
      "Cell \u001b[1;32mIn[1], line 3\u001b[0m\n\u001b[0;32m      1\u001b[0m \u001b[38;5;66;03m#intentional error\u001b[39;00m\n\u001b[0;32m      2\u001b[0m names \u001b[38;5;241m=\u001b[39m [\u001b[38;5;124m\"\u001b[39m\u001b[38;5;124mareeba\u001b[39m\u001b[38;5;124m\"\u001b[39m, \u001b[38;5;124m\"\u001b[39m\u001b[38;5;124marslan\u001b[39m\u001b[38;5;124m\"\u001b[39m, \u001b[38;5;124m\"\u001b[39m\u001b[38;5;124msaad\u001b[39m\u001b[38;5;124m\"\u001b[39m]\n\u001b[1;32m----> 3\u001b[0m \u001b[38;5;28mprint\u001b[39m(\u001b[43mnames\u001b[49m\u001b[43m[\u001b[49m\u001b[38;5;241;43m3\u001b[39;49m\u001b[43m]\u001b[49m)\n",
      "\u001b[1;31mIndexError\u001b[0m: list index out of range"
     ]
    }
   ],
   "source": [
    "#intentional error\n",
    "names = [\"areeba\", \"arslan\", \"saad\"]\n",
    "print(names[3])\n"
   ]
  }
 ],
 "metadata": {
  "kernelspec": {
   "display_name": "Python 3",
   "language": "python",
   "name": "python3"
  },
  "language_info": {
   "codemirror_mode": {
    "name": "ipython",
    "version": 3
   },
   "file_extension": ".py",
   "mimetype": "text/x-python",
   "name": "python",
   "nbconvert_exporter": "python",
   "pygments_lexer": "ipython3",
   "version": "3.11.9"
  }
 },
 "nbformat": 4,
 "nbformat_minor": 2
}
